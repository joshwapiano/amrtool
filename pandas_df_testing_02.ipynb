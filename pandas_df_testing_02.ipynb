{
 "cells": [
  {
   "cell_type": "code",
   "execution_count": 7,
   "metadata": {},
   "outputs": [
    {
     "data": {
      "application/vnd.jupyter.widget-view+json": {
       "model_id": "fe2dff3781174ff890c9bb2086117063",
       "version_major": 2,
       "version_minor": 0
      },
      "text/plain": [
       "HBox(children=(Select(options=('Please select village:', 'All', 'Kilonito', 'Oluseryan'), value='Please select…"
      ]
     },
     "metadata": {},
     "output_type": "display_data"
    },
    {
     "data": {
      "application/vnd.jupyter.widget-view+json": {
       "model_id": "09da41e9c5814ff089c2c0674bc886ef",
       "version_major": 2,
       "version_minor": 0
      },
      "text/plain": [
       "Output()"
      ]
     },
     "metadata": {},
     "output_type": "display_data"
    }
   ],
   "source": [
    "# libraries\n",
    "import pandas as pd\n",
    "import numpy as np\n",
    "import ipywidgets as widgets\n",
    "from ipywidgets import interact\n",
    "import IPython.display as IPdisp\n",
    "\n",
    "# read in csv\n",
    "amr_data = pd.read_csv(\"data/amr_dummy-csver.csv\")\n",
    "\n",
    "\n",
    "# create colour rules for each variable\n",
    "def colour_rag_kno_a(val):\n",
    "    colour = 'green'\n",
    "    if type(val) is not str and val<0.7:\n",
    "        colour = 'orange'\n",
    "    if type(val) is not str and val<0.5:\n",
    "        colour = 'red'\n",
    "    return 'color: %s' % colour\n",
    "\n",
    "def colour_rag_kno_b(val):\n",
    "    colour = 'black'\n",
    "    if type(val) is not str and val<0.7:\n",
    "        colour = 'red'\n",
    "        bground_colour = 'black'\n",
    "    return 'color: %s' % colour\n",
    "\n",
    "def colour_rag_kno_b_back(val):\n",
    "    bground_colour = 'white'\n",
    "    if type(val) is not str and val<0.7:\n",
    "        bground_colour = 'black'\n",
    "    return 'background-color: %s' % bground_colour\n",
    "\n",
    "\n",
    "def magnify():\n",
    "    return [dict(selector=\"th\", #TableHeaders\n",
    "                 props=[(\"font-size\", \"11pt\")]),\n",
    "            dict(selector=\"td\", #TableData\n",
    "                 props=[('padding', \"0em 3em\"),\n",
    "                        ('font-size', '10pt')]),\n",
    "            dict(selector=\"th:hover\",\n",
    "                 props=[(\"font-size\", \"14pt\")]),\n",
    "            dict(selector=\"tr:hover td:hover\",\n",
    "                 props=[('max-width', '200px'),\n",
    "                        ('font-size', '14pt')])]\n",
    "\n",
    "# set up options for user selection\n",
    "items = ['Please select village:']+['All']+sorted(amr_data['village'].unique().tolist())\n",
    "look_item = ['Detailed','Summarized']\n",
    "\n",
    "\n",
    "def look_tab(w='',v='Detailed'):\n",
    "    if w=='Please select village:': return\n",
    "    if w=='All':\n",
    "        if v == 'Detailed':\n",
    "            display_data = amr_data\n",
    "        if v == 'Summarized':\n",
    "            display_data = amr_data.loc[amr_data['indicator'] == 'M']\n",
    "    \n",
    "    \n",
    "    else:\n",
    "        if v == 'Detailed':\n",
    "            display_data = amr_data[amr_data['village']==w]\n",
    "        if v == 'Summarized':\n",
    "            display_data = amr_data[amr_data['village']==w].loc[amr_data['indicator'] == 'M']\n",
    "    return IPdisp.display(\\\n",
    "                          display_data[['county','village','knowledge_a','antibiotics_a']]\\\n",
    "                          .style.applymap(colour_rag_kno_a, subset = 'knowledge_a')\\\n",
    "                          .set_table_styles(magnify()),\\\n",
    "                          display_data[['county','village','knowledge_b','antibiotics_b']]\\\n",
    "                          .style.applymap(colour_rag_kno_b, subset = 'knowledge_b')\\\n",
    "                          .applymap(colour_rag_kno_b_back, subset = 'knowledge_b'))\n",
    "\n",
    "w = widgets.Select(options=items)\n",
    "v = widgets.RadioButtons(options=look_item, description='View type')\n",
    "ui = widgets.HBox([w,v])\n",
    "\n",
    "out = widgets.interactive_output(look_tab, {'w': w, 'v': v})\n",
    "\n",
    "display(ui, out)"
   ]
  }
 ],
 "metadata": {
  "kernelspec": {
   "display_name": "Python 3",
   "language": "python",
   "name": "python3"
  },
  "language_info": {
   "codemirror_mode": {
    "name": "ipython",
    "version": 3
   },
   "file_extension": ".py",
   "mimetype": "text/x-python",
   "name": "python",
   "nbconvert_exporter": "python",
   "pygments_lexer": "ipython3",
   "version": "3.7.2"
  }
 },
 "nbformat": 4,
 "nbformat_minor": 2
}
