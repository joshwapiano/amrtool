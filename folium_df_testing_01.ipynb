{
 "cells": [
  {
   "cell_type": "code",
   "execution_count": 27,
   "metadata": {},
   "outputs": [
    {
     "data": {
      "application/vnd.jupyter.widget-view+json": {
       "model_id": "ab708673b7834bd89b4fb6120b7c8414",
       "version_major": 2,
       "version_minor": 0
      },
      "text/plain": [
       "interactive(children=(FloatSlider(value=52.518611, description='lat', max=90.0, min=-90.0), FloatSlider(value=…"
      ]
     },
     "metadata": {},
     "output_type": "display_data"
    }
   ],
   "source": [
    "# libraries\n",
    "import pandas as pd\n",
    "import numpy as np\n",
    "import folium\n",
    "from ipywidgets import interact\n",
    "\n",
    "# read in csv\n",
    "amr_data = pd.read_csv(\"data/amr_dummy-csver.csv\")\n",
    "\n",
    "folium_base_df = amr_data.loc[amr_data['indicator'] == 'M']\n",
    "\n",
    "# Cloudmade Mapbox needs an API key, Mapbox Control Room is limited to a few levels\n",
    "tiles = [name.strip() for name in \"\"\"\n",
    "    OpenStreetMap\n",
    "    Mapbox Bright\n",
    "    Mapbox Control Room\n",
    "    Stamen Terrain\n",
    "    Stamen Toner\n",
    "    Stamen Watercolor\n",
    "    CartoDB positron\n",
    "    CartoDB dark_matter\"\"\".strip().split('\\n')]\n",
    "\n",
    "date = ['Current','Historic']\n",
    "\n",
    "@interact(lat=(-90., 90.), lon=(-180., 180.), tiles=tiles, zoom=(1, 18), timeframe=date)\n",
    "def create_map(lat=52.518611, lon=13.408333, tiles=\"OpenStreetMap\", zoom=10, timeframe=date):\n",
    "    \n",
    "    if timeframe == 'Current':\n",
    "        histo = 0\n",
    "    elif timeframe == 'Historic':\n",
    "        histo = 1\n",
    "\n",
    "    for index, row in folium_base_df.loc[amr_data['Historic'] == histo].iterrows():\n",
    "        print(index, row['village'], row['Latitude'], row['Longitude'])\n",
    "    \n",
    "    m = folium.Map(location=(lat, lon), tiles=tiles, zoom_start=zoom)\n",
    "    m.add_child(folium.LatLngPopup())#, folium.LayerControl().add_to(m)\n",
    "    return m\n"
   ]
  },
  {
   "cell_type": "code",
   "execution_count": 7,
   "metadata": {},
   "outputs": [
    {
     "data": {
      "text/html": [
       "<div>\n",
       "<style scoped>\n",
       "    .dataframe tbody tr th:only-of-type {\n",
       "        vertical-align: middle;\n",
       "    }\n",
       "\n",
       "    .dataframe tbody tr th {\n",
       "        vertical-align: top;\n",
       "    }\n",
       "\n",
       "    .dataframe thead th {\n",
       "        text-align: right;\n",
       "    }\n",
       "</style>\n",
       "<table border=\"1\" class=\"dataframe\">\n",
       "  <thead>\n",
       "    <tr style=\"text-align: right;\">\n",
       "      <th></th>\n",
       "      <th>identifyer</th>\n",
       "      <th>date_data</th>\n",
       "      <th>Historic</th>\n",
       "      <th>indicator</th>\n",
       "      <th>country</th>\n",
       "      <th>county</th>\n",
       "      <th>village_group</th>\n",
       "      <th>village</th>\n",
       "      <th>Latitude</th>\n",
       "      <th>Longitude</th>\n",
       "      <th>knowledge_a</th>\n",
       "      <th>knowledge_b</th>\n",
       "      <th>antibiotics_a</th>\n",
       "      <th>antibiotics_b</th>\n",
       "      <th>access_a</th>\n",
       "      <th>access_b</th>\n",
       "      <th>income_a</th>\n",
       "      <th>income_b</th>\n",
       "    </tr>\n",
       "  </thead>\n",
       "  <tbody>\n",
       "    <tr>\n",
       "      <th>3</th>\n",
       "      <td>10001</td>\n",
       "      <td>20/11/2018</td>\n",
       "      <td>0</td>\n",
       "      <td>M</td>\n",
       "      <td>kenya</td>\n",
       "      <td>Kajiado</td>\n",
       "      <td>1</td>\n",
       "      <td>Oluseryan</td>\n",
       "      <td>-4.001</td>\n",
       "      <td>39.002</td>\n",
       "      <td>0.666667</td>\n",
       "      <td>1.333333</td>\n",
       "      <td>0.666667</td>\n",
       "      <td>0.666667</td>\n",
       "      <td>0.666667</td>\n",
       "      <td>0.666667</td>\n",
       "      <td>0.433333</td>\n",
       "      <td>2.666667</td>\n",
       "    </tr>\n",
       "  </tbody>\n",
       "</table>\n",
       "</div>"
      ],
      "text/plain": [
       "   identifyer   date_data  Historic indicator country   county  village_group  \\\n",
       "3       10001  20/11/2018         0         M   kenya  Kajiado              1   \n",
       "\n",
       "     village  Latitude  Longitude  knowledge_a  knowledge_b  antibiotics_a  \\\n",
       "3  Oluseryan    -4.001     39.002     0.666667     1.333333       0.666667   \n",
       "\n",
       "   antibiotics_b  access_a  access_b  income_a  income_b  \n",
       "3       0.666667  0.666667  0.666667  0.433333  2.666667  "
      ]
     },
     "execution_count": 7,
     "metadata": {},
     "output_type": "execute_result"
    }
   ],
   "source": [
    "folium_base_df.head(1)"
   ]
  },
  {
   "cell_type": "code",
   "execution_count": 1,
   "metadata": {},
   "outputs": [
    {
     "ename": "NameError",
     "evalue": "name 'timeframe' is not defined",
     "output_type": "error",
     "traceback": [
      "\u001b[0;31m---------------------------------------------------------------------------\u001b[0m",
      "\u001b[0;31mNameError\u001b[0m                                 Traceback (most recent call last)",
      "\u001b[0;32m<ipython-input-1-044e8b7aae2d>\u001b[0m in \u001b[0;36m<module>\u001b[0;34m\u001b[0m\n\u001b[0;32m----> 1\u001b[0;31m \u001b[0;32mif\u001b[0m \u001b[0mtimeframe\u001b[0m \u001b[0;34m==\u001b[0m \u001b[0;34m'Current'\u001b[0m\u001b[0;34m:\u001b[0m\u001b[0;34m\u001b[0m\u001b[0;34m\u001b[0m\u001b[0m\n\u001b[0m\u001b[1;32m      2\u001b[0m     \u001b[0mhisto\u001b[0m \u001b[0;34m=\u001b[0m \u001b[0;36m0\u001b[0m\u001b[0;34m\u001b[0m\u001b[0;34m\u001b[0m\u001b[0m\n\u001b[1;32m      3\u001b[0m \u001b[0;32melif\u001b[0m \u001b[0mtimeframe\u001b[0m \u001b[0;34m==\u001b[0m \u001b[0;34m'Historic'\u001b[0m\u001b[0;34m:\u001b[0m\u001b[0;34m\u001b[0m\u001b[0;34m\u001b[0m\u001b[0m\n\u001b[1;32m      4\u001b[0m     \u001b[0mhisto\u001b[0m \u001b[0;34m=\u001b[0m \u001b[0;36m1\u001b[0m\u001b[0;34m\u001b[0m\u001b[0;34m\u001b[0m\u001b[0m\n\u001b[1;32m      5\u001b[0m \u001b[0;32mfor\u001b[0m \u001b[0mindex\u001b[0m\u001b[0;34m,\u001b[0m \u001b[0mrow\u001b[0m \u001b[0;32min\u001b[0m \u001b[0mfolium_base_df\u001b[0m\u001b[0;34m.\u001b[0m\u001b[0mloc\u001b[0m\u001b[0;34m[\u001b[0m\u001b[0mamr_data\u001b[0m\u001b[0;34m[\u001b[0m\u001b[0;34m'Historic'\u001b[0m\u001b[0;34m]\u001b[0m \u001b[0;34m==\u001b[0m \u001b[0mhisto\u001b[0m\u001b[0;34m]\u001b[0m\u001b[0;34m.\u001b[0m\u001b[0miterrows\u001b[0m\u001b[0;34m(\u001b[0m\u001b[0;34m)\u001b[0m\u001b[0;34m:\u001b[0m\u001b[0;34m\u001b[0m\u001b[0;34m\u001b[0m\u001b[0m\n",
      "\u001b[0;31mNameError\u001b[0m: name 'timeframe' is not defined"
     ]
    }
   ],
   "source": [
    "if timeframe == 'Current':\n",
    "    histo = 0\n",
    "elif timeframe == 'Historic':\n",
    "    histo = 1\n",
    "for index, row in folium_base_df.loc[amr_data['Historic'] == histo].iterrows():\n",
    "    print(index, row['village'], row['Latitude'], row['Longitude'])"
   ]
  },
  {
   "cell_type": "code",
   "execution_count": null,
   "metadata": {},
   "outputs": [],
   "source": [
    "marker_cluster_active = folium.MarkerCluster()\n",
    "marker_cluster_unactive =folium.MarkerCluster()\n",
    "for site in data_sites:\n",
    "    if(site[\"status\"]==\"is_active\"):\n",
    "        marker_active = folium.Marker(site[\"coordinates\"],popup=\"OK\",icon = folium.Icon(color='green',icon='ok-sign'))\n",
    "        marker_cluster_active.add_child(marker_active)\n",
    "    else:\n",
    "        marker_unactive = folium.Marker(site[\"coordinates\"],popup=\"KO\",icon = folium.Icon(color='red',icon='exclamation-sign'))\n",
    "        marker_cluster_unactive.add_child(marker_unactive)\n",
    "        \n",
    "# https://python-visualization.github.io/folium/quickstart.html#Markers"
   ]
  }
 ],
 "metadata": {
  "kernelspec": {
   "display_name": "Python 3",
   "language": "python",
   "name": "python3"
  },
  "language_info": {
   "codemirror_mode": {
    "name": "ipython",
    "version": 3
   },
   "file_extension": ".py",
   "mimetype": "text/x-python",
   "name": "python",
   "nbconvert_exporter": "python",
   "pygments_lexer": "ipython3",
   "version": "3.7.2"
  }
 },
 "nbformat": 4,
 "nbformat_minor": 2
}
